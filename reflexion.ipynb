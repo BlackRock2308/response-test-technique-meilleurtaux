{
 "cells": [
  {
   "cell_type": "markdown",
   "metadata": {},
   "source": [
    "## 🚀 Partie 3 : Réflexion"
   ]
  },
  {
   "cell_type": "markdown",
   "metadata": {},
   "source": [
    "Imaginons que Julie, une data analyst de l’équipe marketing, souhaite accéder aux informations des utilisateurs et aux actions qu’ils effectuent sur le site (consultations de pages, clics, etc.) afin d’améliorer les analyses marketing. Ces données sont disponibles via une API, mais elles doivent être mises à disposition de manière structurée et accessible pour Julie.\n",
    "\n",
    "🎯 Votre mission\n",
    "En tant que data engineer Meilleurtaux, votre rôle est de répondre à cette demande en mettant en place un processus pour récupérer et stocker les données de l’API, afin que Julie puisse les utiliser facilement dans ses analyses.\n"
   ]
  },
  {
   "cell_type": "markdown",
   "metadata": {},
   "source": [
    "## Proposition de solution"
   ]
  },
  {
   "cell_type": "markdown",
   "metadata": {},
   "source": [
    "- 🔗 `Accès aux données : Comment allez-vous récupérer les données de l’API ?` <br>\n",
    "Pour ce qui de la partie acces aux données, il faut mettre en place un outil d'ingestion des données de l'API. Il y'a plusieurs facon de faire cela. On peut choisir une approche tres simple en utilisé un outil d'ingestion comme Airbyte ou on a pas besoin d'écrire du code pour déplacer nos données de la source vers la destination. Mais ici, je propose d'écrire un script python qui va faire un appel API et load les données dans notre data warehouse. On pourra dockerisé cette application python et utilié cloud Run par exemple pour l'executer. <br>\n",
    "- 💾 `Stockage : Où allez-vous stocker les données pour qu’elles soient facilement accessibles pour Julie et l’équipe marketing ?`<br>\n",
    "Pour la partie stockage, on peut choisir un data warehouse cloud based comme BigQuery ou encore Snowflake. Il s'agit des deux warehouse les plus utilisés dans la modern data stack aujourd'hui. L'avantage est qu'on pourra mettre en place une architecture medallion afin d'avoir une meilleure organisation de la données. En plus de cela, les outils de BI utilisés par les Data Analyst se plugent facilement á BigQuery ou Snowflake sans probleme. <br>\n",
    "- 🔄 `Automatisation : Comment mettre en place un processus automatisé (par exemple, toutes les heures ou chaque jour) pour garantir que les données sont toujours à jour ?` <br>\n",
    "Pour la partie automatisation, il faudra faire appel á un orchestrateur de workflows qui pourra executer le data pipeline de facon automatisé en fonction des besoins métier. On a plusieurs choix dans ce sens : Airflow ou Dadster. En considérant le fait qu'on utilise BigQuery, on peut utiliser Cloud composer qui est la version GCP de airflow pour orchestrer les transformation qu'on va effectuer mais aussi l'extration depuis l'API. <br>\n",
    "- 🛠️ `Déploiement et Outils : Comment allez-vous déployer votre solution, et quels outils ou technologies utiliseriez-vous ?`<br>\n",
    "Notre solution sera cloud based. Donc il eest tres facile á déployer. On pourra faire recours évidemment á de l'IaC pour générer l'infrastructure, automatiser le déploiement de notre script qui fetch les données depuis l'API avec github actions par exemple.\n",
    "La liste d'outils proposées est la suivante :\n",
    "     * Airbyte ou Dockerisé un script python : pour la partie ingestion des données\n",
    "     * BigQuery : Data Warehouse pour le stockage / snowflake aussi est une option\n",
    "     * DBT : S'il y'a le besoin de faire des transformation afin utilisation\n",
    "     * Airflow : pour orchestrer et automatiser le workflow \n",
    "     * Github Action : automatiser le deploiement du script au cas ou on utilise pas airbyte pour l'ingestion"
   ]
  },
  {
   "cell_type": "code",
   "execution_count": null,
   "metadata": {
    "vscode": {
     "languageId": "plaintext"
    }
   },
   "outputs": [],
   "source": []
  }
 ],
 "metadata": {
  "language_info": {
   "name": "python"
  },
  "orig_nbformat": 4
 },
 "nbformat": 4,
 "nbformat_minor": 2
}
